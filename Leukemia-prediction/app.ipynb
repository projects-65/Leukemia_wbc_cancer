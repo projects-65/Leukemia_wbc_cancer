{
 "cells": [
  {
   "cell_type": "code",
   "execution_count": 2,
   "id": "d0d67df7",
   "metadata": {},
   "outputs": [
    {
     "name": "stderr",
     "output_type": "stream",
     "text": [
      "WARNING:absl:Compiled the loaded model, but the compiled metrics have yet to be built. `model.compile_metrics` will be empty until you train or evaluate the model.\n",
      "WARNING:absl:Error in loading the saved optimizer state. As a result, your model is starting with a freshly initialized optimizer.\n"
     ]
    },
    {
     "name": "stdout",
     "output_type": "stream",
     "text": [
      " * Serving Flask app '__main__'\n",
      " * Debug mode: off\n"
     ]
    },
    {
     "name": "stderr",
     "output_type": "stream",
     "text": [
      "INFO:werkzeug:\u001b[31m\u001b[1mWARNING: This is a development server. Do not use it in a production deployment. Use a production WSGI server instead.\u001b[0m\n",
      " * Running on http://127.0.0.1:5015\n",
      "INFO:werkzeug:\u001b[33mPress CTRL+C to quit\u001b[0m\n"
     ]
    }
   ],
   "source": []
  },
  {
   "cell_type": "code",
   "execution_count": 10,
   "id": "cd8a5e1b",
   "metadata": {},
   "outputs": [
    {
     "name": "stderr",
     "output_type": "stream",
     "text": [
      "WARNING:absl:Compiled the loaded model, but the compiled metrics have yet to be built. `model.compile_metrics` will be empty until you train or evaluate the model.\n",
      "WARNING:absl:Error in loading the saved optimizer state. As a result, your model is starting with a freshly initialized optimizer.\n"
     ]
    },
    {
     "name": "stdout",
     "output_type": "stream",
     "text": [
      " * Serving Flask app '__main__'\n",
      " * Debug mode: off\n"
     ]
    },
    {
     "name": "stderr",
     "output_type": "stream",
     "text": [
      "INFO:werkzeug:\u001b[31m\u001b[1mWARNING: This is a development server. Do not use it in a production deployment. Use a production WSGI server instead.\u001b[0m\n",
      " * Running on http://127.0.0.1:5000\n",
      "INFO:werkzeug:\u001b[33mPress CTRL+C to quit\u001b[0m\n",
      "INFO:werkzeug:127.0.0.1 - - [29/Apr/2024 16:15:05] \"GET / HTTP/1.1\" 200 -\n"
     ]
    },
    {
     "name": "stdout",
     "output_type": "stream",
     "text": [
      "if\n",
      "\u001b[1m1/1\u001b[0m \u001b[32m━━━━━━━━━━━━━━━━━━━━\u001b[0m\u001b[37m\u001b[0m \u001b[1m0s\u001b[0m 423ms/step\n"
     ]
    },
    {
     "name": "stderr",
     "output_type": "stream",
     "text": [
      "INFO:werkzeug:127.0.0.1 - - [29/Apr/2024 16:25:30] \"POST /submit HTTP/1.1\" 200 -\n",
      "INFO:werkzeug:127.0.0.1 - - [29/Apr/2024 16:25:30] \"GET /static/WBC-Benign-001_jpg.rf.053731b39b25f8ecaaf020c4b85078a2.jpg HTTP/1.1\" 200 -\n"
     ]
    },
    {
     "name": "stdout",
     "output_type": "stream",
     "text": [
      "[0]\n",
      "benign\n",
      "if\n",
      "\u001b[1m1/1\u001b[0m \u001b[32m━━━━━━━━━━━━━━━━━━━━\u001b[0m\u001b[37m\u001b[0m \u001b[1m0s\u001b[0m 176ms/step\n"
     ]
    },
    {
     "name": "stderr",
     "output_type": "stream",
     "text": [
      "INFO:werkzeug:127.0.0.1 - - [29/Apr/2024 16:27:07] \"POST /submit HTTP/1.1\" 200 -\n",
      "INFO:werkzeug:127.0.0.1 - - [29/Apr/2024 16:27:07] \"GET /static/WBC-Malignant-Early-005_jpg.rf.8d83b5cfd05c1e319014e0c6ba58e8ae.jpg HTTP/1.1\" 200 -\n"
     ]
    },
    {
     "name": "stdout",
     "output_type": "stream",
     "text": [
      "[1]\n",
      "malignant\n",
      "if\n",
      "\u001b[1m1/1\u001b[0m \u001b[32m━━━━━━━━━━━━━━━━━━━━\u001b[0m\u001b[37m\u001b[0m \u001b[1m0s\u001b[0m 147ms/step\n"
     ]
    },
    {
     "name": "stderr",
     "output_type": "stream",
     "text": [
      "INFO:werkzeug:127.0.0.1 - - [29/Apr/2024 16:27:20] \"POST /submit HTTP/1.1\" 200 -\n",
      "INFO:werkzeug:127.0.0.1 - - [29/Apr/2024 16:27:20] \"GET /static/WBC-Malignant-Early-002_jpg.rf.8b33d53d0094bdecc6ce19f861fd60ea.jpg HTTP/1.1\" 200 -\n"
     ]
    },
    {
     "name": "stdout",
     "output_type": "stream",
     "text": [
      "[1]\n",
      "malignant\n"
     ]
    }
   ],
   "source": [
    "import os\n",
    "import cv2\n",
    "from flask import Flask, render_template, request\n",
    "from keras.models import load_model\n",
    "from keras.preprocessing import image\n",
    "import numpy as np\n",
    "\n",
    "app = Flask(__name__)\n",
    "\n",
    "#dic = {0: 'benign', 1: 'malignant'}\n",
    "\n",
    "model = load_model(r'C:\\Users\\User\\Downloads\\leukemia\\Capstone-V-Leaukemia Detection\\cnn_trained_model.h5')\n",
    "\n",
    "\n",
    "def predict_label(img_path):\n",
    "    SIZE=128\n",
    "    image = cv2.imread(img_path)\n",
    "    img_rgb = cv2.cvtColor(image, cv2.COLOR_BGR2RGB)\n",
    "    img_resized = cv2.resize(img_rgb, (SIZE, SIZE))\n",
    "    img_resized = img_resized.astype(np.float32) / 255.0  # Normalize pixel values\n",
    "    img_resized = np.expand_dims(img_resized, axis=0)\n",
    "    pred = model.predict(img_resized)\n",
    "    predicted_class = np.argmax(pred,axis=1)\n",
    "    print(predicted_class)\n",
    "    if predicted_class == 0:\n",
    "        return 'benign'\n",
    "    elif predicted_class == 1:\n",
    "        return 'malignant'\n",
    "    #return dic[predicted_class]\n",
    "\n",
    "@app.route('/')\n",
    "def index():\n",
    "    return render_template('home.html')\n",
    "\n",
    "# routes\n",
    "@app.route('/submit', methods=['POST']) \n",
    "def home():\n",
    "    if request.method == 'POST':\n",
    "        print(\"if\")\n",
    "        img = request.files['my_image']\n",
    "        img_path = \"static/\" + img.filename\n",
    "        img.save(img_path)\n",
    "        p = predict_label(img_path)\n",
    "        print(p)\n",
    "        return render_template(\"home.html\", prediction=p, img_path=img_path)\n",
    "    else:\n",
    "        print(\"else\")\n",
    "        return render_template(\"home.html\")\n",
    "\n",
    "\n",
    "@app.route(\"/about\")\n",
    "def about_page():\n",
    "    return \"About You..!!!\"\n",
    "\n",
    "\n",
    "if __name__ == '__main__':\n",
    "    app.run(debug=False, port=5000)"
   ]
  },
  {
   "cell_type": "code",
   "execution_count": null,
   "id": "daed392c",
   "metadata": {},
   "outputs": [],
   "source": []
  }
 ],
 "metadata": {
  "kernelspec": {
   "display_name": "Python 3 (ipykernel)",
   "language": "python",
   "name": "python3"
  },
  "language_info": {
   "codemirror_mode": {
    "name": "ipython",
    "version": 3
   },
   "file_extension": ".py",
   "mimetype": "text/x-python",
   "name": "python",
   "nbconvert_exporter": "python",
   "pygments_lexer": "ipython3",
   "version": "3.11.5"
  }
 },
 "nbformat": 4,
 "nbformat_minor": 5
}
