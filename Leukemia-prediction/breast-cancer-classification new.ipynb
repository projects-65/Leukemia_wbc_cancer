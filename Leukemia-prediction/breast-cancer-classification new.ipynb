{
 "cells": [
  {
   "cell_type": "code",
   "execution_count": 1,
   "id": "40c677d1",
   "metadata": {
    "_cell_guid": "b1076dfc-b9ad-4769-8c92-a6c4dae69d19",
    "_uuid": "8f2839f25d086af736a60e9eeb907d3b93b6e0e5",
    "execution": {
     "iopub.execute_input": "2024-04-04T19:52:00.112611Z",
     "iopub.status.busy": "2024-04-04T19:52:00.112221Z",
     "iopub.status.idle": "2024-04-04T19:52:06.552849Z",
     "shell.execute_reply": "2024-04-04T19:52:06.551882Z"
    },
    "papermill": {
     "duration": 6.45614,
     "end_time": "2024-04-04T19:52:06.556531",
     "exception": false,
     "start_time": "2024-04-04T19:52:00.100391",
     "status": "completed"
    },
    "tags": []
   },
   "outputs": [],
   "source": [
    "import numpy as np \n",
    "import os\n",
    "import pickle\n",
    "import random\n",
    "from skimage.io import imread\n",
    "from skimage.transform import resize\n",
    "\n",
    "import tensorflow as tf\n",
    "import keras\n",
    "from keras.models import Sequential\n",
    "from tensorflow.keras.models import Sequential\n",
    "from keras.layers import Conv2D,Flatten,Dense,MaxPooling2D,Dropout\n",
    "from sklearn.metrics import accuracy_score\n",
    "from tensorflow.keras.models import Sequential\n",
    "from tensorflow.keras.layers import Dense, Activation,Dropout"
   ]
  },
  {
   "cell_type": "code",
   "execution_count": 2,
   "id": "f03f840f",
   "metadata": {
    "execution": {
     "iopub.execute_input": "2024-04-04T19:52:06.579652Z",
     "iopub.status.busy": "2024-04-04T19:52:06.578911Z",
     "iopub.status.idle": "2024-04-04T19:52:06.584333Z",
     "shell.execute_reply": "2024-04-04T19:52:06.583271Z"
    },
    "papermill": {
     "duration": 0.01754,
     "end_time": "2024-04-04T19:52:06.586446",
     "exception": false,
     "start_time": "2024-04-04T19:52:06.568906",
     "status": "completed"
    },
    "tags": []
   },
   "outputs": [],
   "source": [
    "train_dataset = 'train'\n",
    "test_dataset = 'val'"
   ]
  },
  {
   "cell_type": "markdown",
   "id": "a677e9da",
   "metadata": {
    "papermill": {
     "duration": 0.008133,
     "end_time": "2024-04-04T19:52:06.603076",
     "exception": false,
     "start_time": "2024-04-04T19:52:06.594943",
     "status": "completed"
    },
    "tags": []
   },
   "source": [
    "# Data Pre-Processing"
   ]
  },
  {
   "cell_type": "code",
   "execution_count": 3,
   "id": "6836e8ca",
   "metadata": {
    "execution": {
     "iopub.execute_input": "2024-04-04T19:52:06.622798Z",
     "iopub.status.busy": "2024-04-04T19:52:06.622110Z",
     "iopub.status.idle": "2024-04-04T19:52:06.871759Z",
     "shell.execute_reply": "2024-04-04T19:52:06.870816Z"
    },
    "papermill": {
     "duration": 0.262719,
     "end_time": "2024-04-04T19:52:06.874234",
     "exception": false,
     "start_time": "2024-04-04T19:52:06.611515",
     "status": "completed"
    },
    "tags": []
   },
   "outputs": [
    {
     "name": "stdout",
     "output_type": "stream",
     "text": [
      "Number of images classified as benign:  4074\n",
      "Number of images classified as malignant:  4042\n"
     ]
    }
   ],
   "source": [
    "for category in os.listdir(train_dataset):\n",
    "    category_data = os.path.join(train_dataset, category)\n",
    "    image_count = len(os.listdir(category_data))\n",
    "    print(f'Number of images classified as {category}: ', image_count)"
   ]
  },
  {
   "cell_type": "code",
   "execution_count": 4,
   "id": "dbb13230",
   "metadata": {
    "execution": {
     "iopub.execute_input": "2024-04-04T19:52:06.892716Z",
     "iopub.status.busy": "2024-04-04T19:52:06.892413Z",
     "iopub.status.idle": "2024-04-04T19:52:07.016217Z",
     "shell.execute_reply": "2024-04-04T19:52:07.015169Z"
    },
    "papermill": {
     "duration": 0.135383,
     "end_time": "2024-04-04T19:52:07.018394",
     "exception": false,
     "start_time": "2024-04-04T19:52:06.883011",
     "status": "completed"
    },
    "tags": []
   },
   "outputs": [
    {
     "name": "stdout",
     "output_type": "stream",
     "text": [
      "Number of images classified as benign:  500\n",
      "Number of images classified as malignant:  400\n"
     ]
    }
   ],
   "source": [
    "for category in os.listdir(test_dataset):\n",
    "    category_data = os.path.join(test_dataset, category)\n",
    "    image_count = len(os.listdir(category_data))\n",
    "    print(f'Number of images classified as {category}: ', image_count)"
   ]
  },
  {
   "cell_type": "code",
   "execution_count": 5,
   "id": "15f23888",
   "metadata": {
    "execution": {
     "iopub.execute_input": "2024-04-04T19:52:07.038144Z",
     "iopub.status.busy": "2024-04-04T19:52:07.037857Z",
     "iopub.status.idle": "2024-04-04T19:52:07.042140Z",
     "shell.execute_reply": "2024-04-04T19:52:07.041218Z"
    },
    "papermill": {
     "duration": 0.015752,
     "end_time": "2024-04-04T19:52:07.044140",
     "exception": false,
     "start_time": "2024-04-04T19:52:07.028388",
     "status": "completed"
    },
    "tags": []
   },
   "outputs": [],
   "source": [
    "mapping = {\n",
    "    'benign': 0,\n",
    "    'malignant': 1\n",
    "}"
   ]
  },
  {
   "cell_type": "code",
   "execution_count": 6,
   "id": "d6184cfa",
   "metadata": {
    "execution": {
     "iopub.execute_input": "2024-04-04T19:52:07.062439Z",
     "iopub.status.busy": "2024-04-04T19:52:07.062163Z",
     "iopub.status.idle": "2024-04-04T19:52:07.066612Z",
     "shell.execute_reply": "2024-04-04T19:52:07.065710Z"
    },
    "papermill": {
     "duration": 0.015962,
     "end_time": "2024-04-04T19:52:07.068643",
     "exception": false,
     "start_time": "2024-04-04T19:52:07.052681",
     "status": "completed"
    },
    "tags": []
   },
   "outputs": [],
   "source": [
    "IMAGE_SIZE = (224,224,3)"
   ]
  },
  {
   "cell_type": "code",
   "execution_count": 7,
   "id": "55659244",
   "metadata": {
    "execution": {
     "iopub.execute_input": "2024-04-04T19:52:07.086812Z",
     "iopub.status.busy": "2024-04-04T19:52:07.086537Z",
     "iopub.status.idle": "2024-04-04T19:53:28.404909Z",
     "shell.execute_reply": "2024-04-04T19:53:28.403793Z"
    },
    "papermill": {
     "duration": 81.330241,
     "end_time": "2024-04-04T19:53:28.407501",
     "exception": false,
     "start_time": "2024-04-04T19:52:07.077260",
     "status": "completed"
    },
    "tags": []
   },
   "outputs": [],
   "source": [
    "train_images = []\n",
    "train_labels = []\n",
    "for category in os.listdir(train_dataset):\n",
    "    category_data = os.path.join(train_dataset, category)\n",
    "    image_titles = os.listdir(category_data)\n",
    "    image_samples = random.sample(image_titles, 2000)\n",
    "    for image_title in image_samples:\n",
    "        image_path = os.path.join(category_data, image_title)\n",
    "        image = imread(image_path)\n",
    "        image = resize(image, IMAGE_SIZE)\n",
    "        train_images.append(image)\n",
    "        train_labels.append(mapping[category])"
   ]
  },
  {
   "cell_type": "code",
   "execution_count": 11,
   "id": "37334b7c",
   "metadata": {
    "execution": {
     "iopub.execute_input": "2024-04-04T19:54:02.480743Z",
     "iopub.status.busy": "2024-04-04T19:54:02.480430Z",
     "iopub.status.idle": "2024-04-04T19:54:02.485744Z",
     "shell.execute_reply": "2024-04-04T19:54:02.484801Z"
    },
    "papermill": {
     "duration": 0.017007,
     "end_time": "2024-04-04T19:54:02.487811",
     "exception": false,
     "start_time": "2024-04-04T19:54:02.470804",
     "status": "completed"
    },
    "tags": []
   },
   "outputs": [],
   "source": [
    "y_train = np.array(train_labels)\n",
    "y_test = np.array(test_labels)"
   ]
  },
  {
   "cell_type": "code",
   "execution_count": 19,
   "id": "189a46e2",
   "metadata": {
    "execution": {
     "iopub.execute_input": "2024-04-04T19:54:11.184650Z",
     "iopub.status.busy": "2024-04-04T19:54:11.183929Z",
     "iopub.status.idle": "2024-04-04T19:54:14.123946Z",
     "shell.execute_reply": "2024-04-04T19:54:14.123097Z"
    },
    "papermill": {
     "duration": 2.951978,
     "end_time": "2024-04-04T19:54:14.126319",
     "exception": false,
     "start_time": "2024-04-04T19:54:11.174341",
     "status": "completed"
    },
    "tags": []
   },
   "outputs": [],
   "source": [
    "model = Sequential()\n",
    "model.add(Conv2D(32,(3,3),activation = 'relu',input_shape=(224,224,3)))\n",
    "model.add(Conv2D(64,(3,3),activation='relu'))\n",
    "model.add(MaxPooling2D(2,2))\n",
    "model.add(Dropout(0.25))\n",
    "\n",
    "model.add(Conv2D(64,(3,3),activation='relu'))\n",
    "model.add(MaxPooling2D(2,2))\n",
    "model.add(Dropout(0.25))\n",
    "\n",
    "model.add(Conv2D(128,(3,3),activation='relu'))\n",
    "model.add(MaxPooling2D(2,2))\n",
    "model.add(Dropout(0.25))\n",
    "\n",
    "\n",
    "model.add(Flatten())\n",
    "model.add(Dense(64,activation = 'relu'))\n",
    "model.add(Dropout(0.5))\n",
    "model.add(Dense(1,activation='sigmoid'))"
   ]
  },
  {
   "cell_type": "code",
   "execution_count": 20,
   "id": "b9cfed65",
   "metadata": {
    "execution": {
     "iopub.execute_input": "2024-04-04T19:54:14.145628Z",
     "iopub.status.busy": "2024-04-04T19:54:14.145312Z",
     "iopub.status.idle": "2024-04-04T19:54:14.157382Z",
     "shell.execute_reply": "2024-04-04T19:54:14.156697Z"
    },
    "papermill": {
     "duration": 0.023874,
     "end_time": "2024-04-04T19:54:14.159411",
     "exception": false,
     "start_time": "2024-04-04T19:54:14.135537",
     "status": "completed"
    },
    "tags": []
   },
   "outputs": [],
   "source": [
    " model.compile(loss='binary_crossentropy',optimizer='Adam',metrics=['accuracy'])"
   ]
  },
  {
   "cell_type": "code",
   "execution_count": 21,
   "id": "cb9a07b8",
   "metadata": {
    "execution": {
     "iopub.execute_input": "2024-04-04T19:54:14.178399Z",
     "iopub.status.busy": "2024-04-04T19:54:14.178113Z",
     "iopub.status.idle": "2024-04-04T19:54:14.184550Z",
     "shell.execute_reply": "2024-04-04T19:54:14.183612Z"
    },
    "papermill": {
     "duration": 0.018851,
     "end_time": "2024-04-04T19:54:14.187111",
     "exception": false,
     "start_time": "2024-04-04T19:54:14.168260",
     "status": "completed"
    },
    "tags": []
   },
   "outputs": [
    {
     "name": "stdout",
     "output_type": "stream",
     "text": [
      "Model: \"sequential\"\n",
      "_________________________________________________________________\n",
      "Layer (type)                 Output Shape              Param #   \n",
      "=================================================================\n",
      "conv2d (Conv2D)              (None, 222, 222, 32)      896       \n",
      "_________________________________________________________________\n",
      "conv2d_1 (Conv2D)            (None, 220, 220, 64)      18496     \n",
      "_________________________________________________________________\n",
      "max_pooling2d (MaxPooling2D) (None, 110, 110, 64)      0         \n",
      "_________________________________________________________________\n",
      "dropout (Dropout)            (None, 110, 110, 64)      0         \n",
      "_________________________________________________________________\n",
      "conv2d_2 (Conv2D)            (None, 108, 108, 64)      36928     \n",
      "_________________________________________________________________\n",
      "max_pooling2d_1 (MaxPooling2 (None, 54, 54, 64)        0         \n",
      "_________________________________________________________________\n",
      "dropout_1 (Dropout)          (None, 54, 54, 64)        0         \n",
      "_________________________________________________________________\n",
      "conv2d_3 (Conv2D)            (None, 52, 52, 128)       73856     \n",
      "_________________________________________________________________\n",
      "max_pooling2d_2 (MaxPooling2 (None, 26, 26, 128)       0         \n",
      "_________________________________________________________________\n",
      "dropout_2 (Dropout)          (None, 26, 26, 128)       0         \n",
      "_________________________________________________________________\n",
      "flatten (Flatten)            (None, 86528)             0         \n",
      "_________________________________________________________________\n",
      "dense (Dense)                (None, 64)                5537856   \n",
      "_________________________________________________________________\n",
      "dropout_3 (Dropout)          (None, 64)                0         \n",
      "_________________________________________________________________\n",
      "dense_1 (Dense)              (None, 1)                 65        \n",
      "=================================================================\n",
      "Total params: 5,668,097\n",
      "Trainable params: 5,668,097\n",
      "Non-trainable params: 0\n",
      "_________________________________________________________________\n"
     ]
    }
   ],
   "source": [
    "model.summary()"
   ]
  },
  {
   "cell_type": "code",
   "execution_count": 22,
   "id": "91b7c08b",
   "metadata": {
    "execution": {
     "iopub.execute_input": "2024-04-04T19:54:14.206727Z",
     "iopub.status.busy": "2024-04-04T19:54:14.205960Z",
     "iopub.status.idle": "2024-04-04T19:56:51.007496Z",
     "shell.execute_reply": "2024-04-04T19:56:51.006623Z"
    },
    "papermill": {
     "duration": 156.813773,
     "end_time": "2024-04-04T19:56:51.009847",
     "exception": false,
     "start_time": "2024-04-04T19:54:14.196074",
     "status": "completed"
    },
    "tags": []
   },
   "outputs": [
    {
     "name": "stdout",
     "output_type": "stream",
     "text": [
      "Epoch 1/20\n",
      "113/113 [==============================] - 16s 75ms/step - loss: 0.6450 - accuracy: 0.6592 - val_loss: 0.5880 - val_accuracy: 0.6875\n",
      "Epoch 2/20\n",
      "113/113 [==============================] - 7s 63ms/step - loss: 0.5545 - accuracy: 0.7267 - val_loss: 0.5346 - val_accuracy: 0.6500\n",
      "Epoch 3/20\n",
      "113/113 [==============================] - 7s 63ms/step - loss: 0.4727 - accuracy: 0.7622 - val_loss: 0.4251 - val_accuracy: 0.7425\n",
      "Epoch 4/20\n",
      "113/113 [==============================] - 7s 63ms/step - loss: 0.3923 - accuracy: 0.7983 - val_loss: 0.5298 - val_accuracy: 0.7050\n",
      "Epoch 5/20\n",
      "113/113 [==============================] - 7s 63ms/step - loss: 0.3416 - accuracy: 0.8303 - val_loss: 0.5241 - val_accuracy: 0.6650\n",
      "Epoch 6/20\n",
      "113/113 [==============================] - 7s 63ms/step - loss: 0.2845 - accuracy: 0.8550 - val_loss: 0.3139 - val_accuracy: 0.8125\n",
      "Epoch 7/20\n",
      "113/113 [==============================] - 7s 63ms/step - loss: 0.2641 - accuracy: 0.8644 - val_loss: 0.2744 - val_accuracy: 0.8650\n",
      "Epoch 8/20\n",
      "113/113 [==============================] - 7s 63ms/step - loss: 0.2231 - accuracy: 0.8911 - val_loss: 0.2713 - val_accuracy: 0.8750\n",
      "Epoch 9/20\n",
      "113/113 [==============================] - 7s 63ms/step - loss: 0.2037 - accuracy: 0.9042 - val_loss: 0.3478 - val_accuracy: 0.8550\n",
      "Epoch 10/20\n",
      "113/113 [==============================] - 7s 63ms/step - loss: 0.1930 - accuracy: 0.9072 - val_loss: 0.3164 - val_accuracy: 0.8975\n",
      "Epoch 11/20\n",
      "113/113 [==============================] - 7s 63ms/step - loss: 0.1855 - accuracy: 0.9006 - val_loss: 0.2290 - val_accuracy: 0.9500\n",
      "Epoch 12/20\n",
      "113/113 [==============================] - 7s 63ms/step - loss: 0.1895 - accuracy: 0.9072 - val_loss: 0.3735 - val_accuracy: 0.8775\n",
      "Epoch 13/20\n",
      "113/113 [==============================] - 7s 63ms/step - loss: 0.1591 - accuracy: 0.9250 - val_loss: 0.2626 - val_accuracy: 0.9200\n",
      "Epoch 14/20\n",
      "113/113 [==============================] - 7s 63ms/step - loss: 0.1512 - accuracy: 0.9269 - val_loss: 0.2448 - val_accuracy: 0.9125\n",
      "Epoch 15/20\n",
      "113/113 [==============================] - 7s 63ms/step - loss: 0.1446 - accuracy: 0.9250 - val_loss: 0.2154 - val_accuracy: 0.9525\n",
      "Epoch 16/20\n",
      "113/113 [==============================] - 7s 63ms/step - loss: 0.1446 - accuracy: 0.9306 - val_loss: 0.3647 - val_accuracy: 0.9075\n",
      "Epoch 17/20\n",
      "113/113 [==============================] - 7s 63ms/step - loss: 0.1291 - accuracy: 0.9353 - val_loss: 0.3543 - val_accuracy: 0.9275\n",
      "Epoch 18/20\n",
      "113/113 [==============================] - 7s 63ms/step - loss: 0.1428 - accuracy: 0.9392 - val_loss: 0.2062 - val_accuracy: 0.9425\n",
      "Epoch 19/20\n",
      "113/113 [==============================] - 7s 63ms/step - loss: 0.1202 - accuracy: 0.9428 - val_loss: 0.2205 - val_accuracy: 0.9400\n",
      "Epoch 20/20\n",
      "113/113 [==============================] - 7s 63ms/step - loss: 0.1254 - accuracy: 0.9356 - val_loss: 0.2519 - val_accuracy: 0.9475\n"
     ]
    }
   ],
   "source": [
    "classification = model.fit(X_train,y_train, epochs=20, validation_split=0.1)"
   ]
  },
  {
   "cell_type": "code",
   "execution_count": 23,
   "id": "743ca768",
   "metadata": {
    "execution": {
     "iopub.execute_input": "2024-04-04T19:56:51.357353Z",
     "iopub.status.busy": "2024-04-04T19:56:51.356583Z",
     "iopub.status.idle": "2024-04-04T19:56:51.361360Z",
     "shell.execute_reply": "2024-04-04T19:56:51.360355Z"
    },
    "papermill": {
     "duration": 0.180679,
     "end_time": "2024-04-04T19:56:51.363449",
     "exception": false,
     "start_time": "2024-04-04T19:56:51.182770",
     "status": "completed"
    },
    "tags": []
   },
   "outputs": [],
   "source": [
    "import matplotlib.pyplot as plt"
   ]
  },
  {
   "cell_type": "code",
   "execution_count": 24,
   "id": "9ea5e2a8",
   "metadata": {
    "execution": {
     "iopub.execute_input": "2024-04-04T19:56:51.717109Z",
     "iopub.status.busy": "2024-04-04T19:56:51.716372Z",
     "iopub.status.idle": "2024-04-04T19:56:51.974716Z",
     "shell.execute_reply": "2024-04-04T19:56:51.973778Z"
    },
    "papermill": {
     "duration": 0.44454,
     "end_time": "2024-04-04T19:56:51.980015",
     "exception": false,
     "start_time": "2024-04-04T19:56:51.535475",
     "status": "completed"
    },
    "tags": []
   },
   "outputs": [
    {
     "data": {
      "image/png": "[encoded data removed]",
      "text/plain": [
       "<Figure size 1008x504 with 1 Axes>"
      ]
     },
     "metadata": {
      "needs_background": "light"
     },
     "output_type": "display_data"
    }
   ],
   "source": [
    "Accuracy = classification.history['accuracy']\n",
    "validation_accuracy = classification.history['val_accuracy']\n",
    "epochs = range(len(Accuracy))\n",
    "fig = plt.figure(figsize=(14,7))\n",
    "plt.plot(epochs,Accuracy,'r',label=\"Training Accuracy\")\n",
    "plt.plot(epochs,validation_accuracy,'b',label=\"Validation Accuracy\")\n",
    "plt.legend(loc='upper left')\n",
    "plt.show()"
   ]
  },
  {
   "cell_type": "code",
   "execution_count": 25,
   "id": "3da6da12",
   "metadata": {
    "execution": {
     "iopub.execute_input": "2024-04-04T19:56:52.325227Z",
     "iopub.status.busy": "2024-04-04T19:56:52.324594Z",
     "iopub.status.idle": "2024-04-04T19:56:52.552450Z",
     "shell.execute_reply": "2024-04-04T19:56:52.551513Z"
    },
    "papermill": {
     "duration": 0.403733,
     "end_time": "2024-04-04T19:56:52.554865",
     "exception": false,
     "start_time": "2024-04-04T19:56:52.151132",
     "status": "completed"
    },
    "tags": []
   },
   "outputs": [
    {
     "data": {
      "image/png": "[encoded data removed]",
      "text/plain": [
       "<Figure size 1008x504 with 1 Axes>"
      ]
     },
     "metadata": {
      "needs_background": "light"
     },
     "output_type": "display_data"
    }
   ],
   "source": [
    "loss = classification.history['loss']\n",
    "validation_loss = classification.history['val_loss']\n",
    "epochs = range(len(loss))\n",
    "fig = plt.figure(figsize=(14,7))\n",
    "plt.plot(epochs,loss,'r',label=\"Training loss\")\n",
    "plt.plot(epochs,validation_loss,'b',label=\"Validation loss\")\n",
    "plt.legend(loc='upper left')\n",
    "plt.show()"
   ]
  },
  {
   "cell_type": "code",
   "execution_count": null,
   "id": "23459aab",
   "metadata": {
    "execution": {
     "iopub.execute_input": "2024-04-04T05:58:16.007655Z",
     "iopub.status.busy": "2024-04-04T05:58:16.007219Z",
     "iopub.status.idle": "2024-04-04T05:58:16.039328Z",
     "shell.execute_reply": "2024-04-04T05:58:16.037745Z",
     "shell.execute_reply.started": "2024-04-04T05:58:16.007613Z"
    },
    "papermill": {
     "duration": 0.172809,
     "end_time": "2024-04-04T19:56:56.439591",
     "exception": false,
     "start_time": "2024-04-04T19:56:56.266782",
     "status": "completed"
    },
    "tags": []
   },
   "outputs": [],
   "source": []
  }
 ],
 "metadata": {
  "kaggle": {
   "accelerator": "gpu",
   "dataSources": [
    {
     "datasetId": 2600743,
     "sourceId": 4441334,
     "sourceType": "datasetVersion"
    }
   ],
   "dockerImageVersionId": 30302,
   "isGpuEnabled": true,
   "isInternetEnabled": true,
   "language": "python",
   "sourceType": "notebook"
  },
  "kernelspec": {
   "display_name": "Python 3 (ipykernel)",
   "language": "python",
   "name": "python3"
  },
  "language_info": {
   "codemirror_mode": {
    "name": "ipython",
    "version": 3
   },
   "file_extension": ".py",
   "mimetype": "text/x-python",
   "name": "python",
   "nbconvert_exporter": "python",
   "pygments_lexer": "ipython3",
   "version": "3.10.2"
  },
  "papermill": {
   "default_parameters": {},
   "duration": 308.56046,
   "end_time": "2024-04-04T19:56:59.775719",
   "environment_variables": {},
   "exception": null,
   "input_path": "__notebook__.ipynb",
   "output_path": "__notebook__.ipynb",
   "parameters": {},
   "start_time": "2024-04-04T19:51:51.215259",
   "version": "2.3.4"
  }
 },
 "nbformat": 4,
 "nbformat_minor": 5
}
