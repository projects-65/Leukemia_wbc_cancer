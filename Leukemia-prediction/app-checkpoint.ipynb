{
 "cells": [
  {
   "cell_type": "code",
   "execution_count": 1,
   "id": "d0d67df7",
   "metadata": {},
   "outputs": [
    {
     "name": "stdout",
     "output_type": "stream",
     "text": [
      "WARNING:tensorflow:From C:\\Users\\Revanth teja\\AppData\\Local\\Programs\\Python\\Python310\\lib\\site-packages\\keras\\src\\losses.py:2976: The name tf.losses.sparse_softmax_cross_entropy is deprecated. Please use tf.compat.v1.losses.sparse_softmax_cross_entropy instead.\n",
      "\n",
      "WARNING:tensorflow:From C:\\Users\\Revanth teja\\AppData\\Local\\Programs\\Python\\Python310\\lib\\site-packages\\keras\\src\\backend.py:1398: The name tf.executing_eagerly_outside_functions is deprecated. Please use tf.compat.v1.executing_eagerly_outside_functions instead.\n",
      "\n",
      "WARNING:tensorflow:From C:\\Users\\Revanth teja\\AppData\\Local\\Programs\\Python\\Python310\\lib\\site-packages\\keras\\src\\layers\\pooling\\max_pooling2d.py:161: The name tf.nn.max_pool is deprecated. Please use tf.nn.max_pool2d instead.\n",
      "\n",
      " * Serving Flask app '__main__'\n",
      " * Debug mode: off\n"
     ]
    },
    {
     "name": "stderr",
     "output_type": "stream",
     "text": [
      "WARNING: This is a development server. Do not use it in a production deployment. Use a production WSGI server instead.\n",
      " * Running on http://127.0.0.1:5014\n",
      "Press CTRL+C to quit\n",
      "127.0.0.1 - - [29/Apr/2024 02:20:34] \"GET / HTTP/1.1\" 200 -\n",
      "127.0.0.1 - - [29/Apr/2024 02:20:34] \"GET /favicon.ico HTTP/1.1\" 404 -\n"
     ]
    },
    {
     "name": "stdout",
     "output_type": "stream",
     "text": [
      "if\n"
     ]
    },
    {
     "name": "stderr",
     "output_type": "stream",
     "text": [
      "[2024-04-29 02:21:09,074] ERROR in app: Exception on /submit [POST]\n",
      "Traceback (most recent call last):\n",
      "  File \"C:\\Users\\Revanth teja\\AppData\\Local\\Programs\\Python\\Python310\\lib\\site-packages\\flask\\app.py\", line 2525, in wsgi_app\n",
      "    response = self.full_dispatch_request()\n",
      "  File \"C:\\Users\\Revanth teja\\AppData\\Local\\Programs\\Python\\Python310\\lib\\site-packages\\flask\\app.py\", line 1822, in full_dispatch_request\n",
      "    rv = self.handle_user_exception(e)\n",
      "  File \"C:\\Users\\Revanth teja\\AppData\\Local\\Programs\\Python\\Python310\\lib\\site-packages\\flask\\app.py\", line 1820, in full_dispatch_request\n",
      "    rv = self.dispatch_request()\n",
      "  File \"C:\\Users\\Revanth teja\\AppData\\Local\\Programs\\Python\\Python310\\lib\\site-packages\\flask\\app.py\", line 1796, in dispatch_request\n",
      "    return self.ensure_sync(self.view_functions[rule.endpoint])(**view_args)\n",
      "  File \"C:\\Users\\Revanth teja\\AppData\\Local\\Temp\\ipykernel_26712\\859529090.py\", line 43, in home\n",
      "    p = predict_label(img_path)\n",
      "  File \"C:\\Users\\Revanth teja\\AppData\\Local\\Temp\\ipykernel_26712\\859529090.py\", line 22, in predict_label\n",
      "    pred = model.predict(img_resized)\n",
      "  File \"C:\\Users\\Revanth teja\\AppData\\Local\\Programs\\Python\\Python310\\lib\\site-packages\\keras\\src\\utils\\traceback_utils.py\", line 70, in error_handler\n",
      "    raise e.with_traceback(filtered_tb) from None\n",
      "  File \"C:\\Users\\REVANT~1\\AppData\\Local\\Temp\\__autograph_generated_filenciv86m8.py\", line 15, in tf__predict_function\n",
      "    retval_ = ag__.converted_call(ag__.ld(step_function), (ag__.ld(self), ag__.ld(iterator)), None, fscope)\n",
      "ValueError: in user code:\n",
      "\n",
      "    File \"C:\\Users\\Revanth teja\\AppData\\Local\\Programs\\Python\\Python310\\lib\\site-packages\\keras\\src\\engine\\training.py\", line 2440, in predict_function  *\n",
      "        return step_function(self, iterator)\n",
      "    File \"C:\\Users\\Revanth teja\\AppData\\Local\\Programs\\Python\\Python310\\lib\\site-packages\\keras\\src\\engine\\training.py\", line 2425, in step_function  **\n",
      "        outputs = model.distribute_strategy.run(run_step, args=(data,))\n",
      "    File \"C:\\Users\\Revanth teja\\AppData\\Local\\Programs\\Python\\Python310\\lib\\site-packages\\keras\\src\\engine\\training.py\", line 2413, in run_step  **\n",
      "        outputs = model.predict_step(data)\n",
      "    File \"C:\\Users\\Revanth teja\\AppData\\Local\\Programs\\Python\\Python310\\lib\\site-packages\\keras\\src\\engine\\training.py\", line 2381, in predict_step\n",
      "        return self(x, training=False)\n",
      "    File \"C:\\Users\\Revanth teja\\AppData\\Local\\Programs\\Python\\Python310\\lib\\site-packages\\keras\\src\\utils\\traceback_utils.py\", line 70, in error_handler\n",
      "        raise e.with_traceback(filtered_tb) from None\n",
      "    File \"C:\\Users\\Revanth teja\\AppData\\Local\\Programs\\Python\\Python310\\lib\\site-packages\\keras\\src\\engine\\input_spec.py\", line 298, in assert_input_compatibility\n",
      "        raise ValueError(\n",
      "\n",
      "    ValueError: Input 0 of layer \"sequential\" is incompatible with the layer: expected shape=(None, 128, 128, 3), found shape=(None, 224, 224, 3)\n",
      "\n",
      "127.0.0.1 - - [29/Apr/2024 02:21:09] \"POST /submit HTTP/1.1\" 500 -\n"
     ]
    }
   ],
   "source": [
    "import os\n",
    "import cv2\n",
    "from flask import Flask, render_template, request\n",
    "from keras.models import load_model\n",
    "from keras.preprocessing import image\n",
    "import numpy as np\n",
    "\n",
    "app = Flask(__name__)\n",
    "\n",
    "#dic = {0: 'benign', 1: 'malignant'}\n",
    "\n",
    "model = load_model('cnn_trained_model.h5')\n",
    "\n",
    "\n",
    "def predict_label(img_path):\n",
    "    SIZE=128\n",
    "    image = cv2.imread(img_path)\n",
    "    img_rgb = cv2.cvtColor(image, cv2.COLOR_BGR2RGB)\n",
    "    img_resized = cv2.resize(img_rgb, (SIZE, SIZE))\n",
    "    img_resized = img_resized.astype(np.float32) / 255.0  # Normalize pixel values\n",
    "    img_resized = np.expand_dims(img_resized, axis=0)\n",
    "    pred = model.predict(img_resized)\n",
    "    predicted_class = np.argmax(pred,axis=1)\n",
    "    print(predicted_class)\n",
    "    if predicted_class == 0:\n",
    "        return 'benign'\n",
    "    elif predicted_class == 1:\n",
    "        return 'malignant'\n",
    "    #return dic[predicted_class]\n",
    "\n",
    "@app.route('/')\n",
    "def index():\n",
    "    return render_template('home.html')\n",
    "\n",
    "# routes\n",
    "@app.route('/submit', methods=['POST']) \n",
    "def home():\n",
    "    if request.method == 'POST':\n",
    "        print(\"if\")\n",
    "        img = request.files['my_image']\n",
    "        img_path = \"static/\" + img.filename\n",
    "        img.save(img_path)\n",
    "        p = predict_label(img_path)\n",
    "        print(p)\n",
    "        return render_template(\"home.html\", prediction=p, img_path=img_path)\n",
    "    else:\n",
    "        print(\"else\")\n",
    "        return render_template(\"home.html\")\n",
    "\n",
    "\n",
    "@app.route(\"/about\")\n",
    "def about_page():\n",
    "    return \"About You..!!!\"\n",
    "\n",
    "\n",
    "if __name__ == '__main__':\n",
    "    app.run(debug=False, port=501)"
   ]
  },
  {
   "cell_type": "code",
   "execution_count": null,
   "id": "daed392c",
   "metadata": {},
   "outputs": [],
   "source": []
  }
 ],
 "metadata": {
  "kernelspec": {
   "display_name": "Python 3 (ipykernel)",
   "language": "python",
   "name": "python3"
  },
  "language_info": {
   "codemirror_mode": {
    "name": "ipython",
    "version": 3
   },
   "file_extension": ".py",
   "mimetype": "text/x-python",
   "name": "python",
   "nbconvert_exporter": "python",
   "pygments_lexer": "ipython3",
   "version": "3.10.2"
  }
 },
 "nbformat": 4,
 "nbformat_minor": 5
}
